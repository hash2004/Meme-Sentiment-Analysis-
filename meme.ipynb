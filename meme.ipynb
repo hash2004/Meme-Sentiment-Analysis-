{
 "cells": [
  {
   "cell_type": "code",
   "execution_count": 2,
   "metadata": {},
   "outputs": [],
   "source": [
    "#importing all the Libraries\n",
    "%matplotlib inline\n",
    "import matplotlib.pyplot as plt\n",
    "import numpy as np\n",
    "import pandas as pd\n",
    "import sklearn\n",
    "import os\n",
    "import glob\n",
    "import seaborn as sb\n",
    "#import cv2 as cv\n",
    "import skimage.io as io\n",
    "from PIL import ImageFile\n",
    "ImageFile.LOAD_TRUNCATED_IMAGES=True\n",
    "from PIL import Image\n",
    "from sklearn.model_selection import train_test_split\n",
    "from sklearn.feature_extraction.text import CountVectorizer"
   ]
  },
  {
   "cell_type": "code",
   "execution_count": 3,
   "metadata": {},
   "outputs": [
    {
     "data": {
      "text/plain": [
       "1    3127\n",
       "2    2201\n",
       "0    1033\n",
       "3     480\n",
       "4     151\n",
       "Name: overall_sentiment, dtype: int64"
      ]
     },
     "execution_count": 3,
     "metadata": {},
     "output_type": "execute_result"
    }
   ],
   "source": [
    "filepathcsv = r\"C:\\Users\\DELL\\Desktop\\IDSPROJJ\\labels.csv\"\n",
    "filepathpics = r\"C:\\Users\\DELL\\Desktop\\IDSPROJJ\\images\\\\\"\n",
    "df = pd.read_csv(filepathcsv)\n",
    "from sklearn.utils import resample,shuffle\n",
    "df['overall_sentiment'] = df['overall_sentiment'].map({'very_positive':0,'positive':1,'neutral':2,'negative':3,'very_negative':4})\n",
    "df.head()\n",
    "\n",
    "df['overall_sentiment'].value_counts()\n",
    "\n"
   ]
  },
  {
   "cell_type": "code",
   "execution_count": 4,
   "metadata": {},
   "outputs": [
    {
     "data": {
      "text/html": [
       "<div>\n",
       "<style scoped>\n",
       "    .dataframe tbody tr th:only-of-type {\n",
       "        vertical-align: middle;\n",
       "    }\n",
       "\n",
       "    .dataframe tbody tr th {\n",
       "        vertical-align: top;\n",
       "    }\n",
       "\n",
       "    .dataframe thead th {\n",
       "        text-align: right;\n",
       "    }\n",
       "</style>\n",
       "<table border=\"1\" class=\"dataframe\">\n",
       "  <thead>\n",
       "    <tr style=\"text-align: right;\">\n",
       "      <th></th>\n",
       "      <th>Unnamed: 0</th>\n",
       "      <th>image_name</th>\n",
       "      <th>text_ocr</th>\n",
       "      <th>text_corrected</th>\n",
       "      <th>overall_sentiment</th>\n",
       "    </tr>\n",
       "  </thead>\n",
       "  <tbody>\n",
       "    <tr>\n",
       "      <th>0</th>\n",
       "      <td>0</td>\n",
       "      <td>image_1.jpg</td>\n",
       "      <td>LOOK THERE MY FRIEND LIGHTYEAR NOW ALL SOHALIK...</td>\n",
       "      <td>LOOK THERE MY FRIEND LIGHTYEAR NOW ALL SOHALIK...</td>\n",
       "      <td>0</td>\n",
       "    </tr>\n",
       "    <tr>\n",
       "      <th>1</th>\n",
       "      <td>1</td>\n",
       "      <td>image_2.jpeg</td>\n",
       "      <td>The best of #10 YearChallenge! Completed in le...</td>\n",
       "      <td>The best of #10 YearChallenge! Completed in le...</td>\n",
       "      <td>0</td>\n",
       "    </tr>\n",
       "    <tr>\n",
       "      <th>4</th>\n",
       "      <td>4</td>\n",
       "      <td>image_5.png</td>\n",
       "      <td>10 YEAR CHALLENGE WITH NO FILTER 47 Hilarious ...</td>\n",
       "      <td>10 YEAR CHALLENGE WITH NO FILTER 47 Hilarious ...</td>\n",
       "      <td>2</td>\n",
       "    </tr>\n",
       "    <tr>\n",
       "      <th>5</th>\n",
       "      <td>5</td>\n",
       "      <td>image_6.jpg</td>\n",
       "      <td>1998: \"Don't get in car with strangers\" 2008: ...</td>\n",
       "      <td>1998: \"Don't get in car with strangers\" 2008: ...</td>\n",
       "      <td>3</td>\n",
       "    </tr>\n",
       "    <tr>\n",
       "      <th>6</th>\n",
       "      <td>6</td>\n",
       "      <td>image_7.png</td>\n",
       "      <td>10 years challenge is lit af Üs &amp; B erg 1945 1...</td>\n",
       "      <td>10 years challenge is lit af Üs &amp; B erg 1945 1...</td>\n",
       "      <td>3</td>\n",
       "    </tr>\n",
       "    <tr>\n",
       "      <th>...</th>\n",
       "      <td>...</td>\n",
       "      <td>...</td>\n",
       "      <td>...</td>\n",
       "      <td>...</td>\n",
       "      <td>...</td>\n",
       "    </tr>\n",
       "    <tr>\n",
       "      <th>6984</th>\n",
       "      <td>6984</td>\n",
       "      <td>image_6985.jpg</td>\n",
       "      <td>YOU'RE THE BEST AROUND. NOTHING'S EVER GONNA K...</td>\n",
       "      <td>YOU'RE THE BEST AROUND. NOTHING'S EVER GONNA K...</td>\n",
       "      <td>0</td>\n",
       "    </tr>\n",
       "    <tr>\n",
       "      <th>6985</th>\n",
       "      <td>6985</td>\n",
       "      <td>image_6986.jpg</td>\n",
       "      <td>WHAT OILS ARE GOOD POR CUTTING THAT POUL SMELL...</td>\n",
       "      <td>WHAT OILS ARE GOOD POR CUTTING THAT POUL SMELL...</td>\n",
       "      <td>2</td>\n",
       "    </tr>\n",
       "    <tr>\n",
       "      <th>6987</th>\n",
       "      <td>6987</td>\n",
       "      <td>image_6988.jpg</td>\n",
       "      <td>Tuesday is Mardi Gras Wednesday is Valentine's...</td>\n",
       "      <td>Tuesday is Mardi Gras Wednesday is Valentine's...</td>\n",
       "      <td>2</td>\n",
       "    </tr>\n",
       "    <tr>\n",
       "      <th>6988</th>\n",
       "      <td>6988</td>\n",
       "      <td>image_6989.jpg</td>\n",
       "      <td>MUST WATCH MOVIES OF 2017 ITI Chennai memes MA...</td>\n",
       "      <td>MUST WATCH MOVIES OF 2017 ITI Chennai memes MA...</td>\n",
       "      <td>2</td>\n",
       "    </tr>\n",
       "    <tr>\n",
       "      <th>6990</th>\n",
       "      <td>6990</td>\n",
       "      <td>image_6991.jpg</td>\n",
       "      <td>When I VERY have time is a fantasy No one has ...</td>\n",
       "      <td>When I have time is a fantasy. no one has time...</td>\n",
       "      <td>0</td>\n",
       "    </tr>\n",
       "  </tbody>\n",
       "</table>\n",
       "<p>3865 rows × 5 columns</p>\n",
       "</div>"
      ],
      "text/plain": [
       "      Unnamed: 0      image_name  \\\n",
       "0              0     image_1.jpg   \n",
       "1              1    image_2.jpeg   \n",
       "4              4     image_5.png   \n",
       "5              5     image_6.jpg   \n",
       "6              6     image_7.png   \n",
       "...          ...             ...   \n",
       "6984        6984  image_6985.jpg   \n",
       "6985        6985  image_6986.jpg   \n",
       "6987        6987  image_6988.jpg   \n",
       "6988        6988  image_6989.jpg   \n",
       "6990        6990  image_6991.jpg   \n",
       "\n",
       "                                               text_ocr  \\\n",
       "0     LOOK THERE MY FRIEND LIGHTYEAR NOW ALL SOHALIK...   \n",
       "1     The best of #10 YearChallenge! Completed in le...   \n",
       "4     10 YEAR CHALLENGE WITH NO FILTER 47 Hilarious ...   \n",
       "5     1998: \"Don't get in car with strangers\" 2008: ...   \n",
       "6     10 years challenge is lit af Üs & B erg 1945 1...   \n",
       "...                                                 ...   \n",
       "6984  YOU'RE THE BEST AROUND. NOTHING'S EVER GONNA K...   \n",
       "6985  WHAT OILS ARE GOOD POR CUTTING THAT POUL SMELL...   \n",
       "6987  Tuesday is Mardi Gras Wednesday is Valentine's...   \n",
       "6988  MUST WATCH MOVIES OF 2017 ITI Chennai memes MA...   \n",
       "6990  When I VERY have time is a fantasy No one has ...   \n",
       "\n",
       "                                         text_corrected  overall_sentiment  \n",
       "0     LOOK THERE MY FRIEND LIGHTYEAR NOW ALL SOHALIK...                  0  \n",
       "1     The best of #10 YearChallenge! Completed in le...                  0  \n",
       "4     10 YEAR CHALLENGE WITH NO FILTER 47 Hilarious ...                  2  \n",
       "5     1998: \"Don't get in car with strangers\" 2008: ...                  3  \n",
       "6     10 years challenge is lit af Üs & B erg 1945 1...                  3  \n",
       "...                                                 ...                ...  \n",
       "6984  YOU'RE THE BEST AROUND. NOTHING'S EVER GONNA K...                  0  \n",
       "6985  WHAT OILS ARE GOOD POR CUTTING THAT POUL SMELL...                  2  \n",
       "6987  Tuesday is Mardi Gras Wednesday is Valentine's...                  2  \n",
       "6988  MUST WATCH MOVIES OF 2017 ITI Chennai memes MA...                  2  \n",
       "6990  When I have time is a fantasy. no one has time...                  0  \n",
       "\n",
       "[3865 rows x 5 columns]"
      ]
     },
     "execution_count": 4,
     "metadata": {},
     "output_type": "execute_result"
    }
   ],
   "source": [
    "df_maj=df[df['overall_sentiment']==1]\n",
    "#df_maj\n",
    "df_min = df[df['overall_sentiment']!=1]\n",
    "df_min"
   ]
  },
  {
   "cell_type": "code",
   "execution_count": 5,
   "metadata": {},
   "outputs": [
    {
     "data": {
      "text/plain": [
       "1    3127\n",
       "2    1733\n",
       "0     891\n",
       "3     375\n",
       "4     128\n",
       "Name: overall_sentiment, dtype: int64"
      ]
     },
     "execution_count": 5,
     "metadata": {},
     "output_type": "execute_result"
    }
   ],
   "source": [
    "upsample_df=resample(df_min, replace=True, n_samples=len(df_maj), random_state=50)\n",
    "upsample_df=pd.concat([upsample_df, df_maj])\n",
    "upsample_df['overall_sentiment'].value_counts()"
   ]
  },
  {
   "cell_type": "code",
   "execution_count": 6,
   "metadata": {},
   "outputs": [],
   "source": [
    "df=upsample_df.reset_index(drop=True)\n"
   ]
  },
  {
   "cell_type": "code",
   "execution_count": 7,
   "metadata": {},
   "outputs": [],
   "source": [
    "memes =[]\n",
    "for i in range(len(df)):\n",
    "    meme = io.imread( r\"C:\\Users\\DELL\\Desktop\\IDSPROJJ\\images\\\\\"+df[\"image_name\"][i])\n",
    "    memes.append(meme)   "
   ]
  },
  {
   "cell_type": "code",
   "execution_count": 8,
   "metadata": {},
   "outputs": [],
   "source": [
    "preprocess = []\n",
    "counter = len(memes)\n",
    "for i in range(counter):\n",
    "    preprocess.append(np.array(Image.fromarray(memes[i]).convert(\"L\").resize((200,200))))\n",
    "    "
   ]
  },
  {
   "cell_type": "code",
   "execution_count": 9,
   "metadata": {},
   "outputs": [
    {
     "data": {
      "text/plain": [
       "<function matplotlib.pyplot.imshow(X, cmap=None, norm=None, *, aspect=None, interpolation=None, alpha=None, vmin=None, vmax=None, origin=None, extent=None, interpolation_stage=None, filternorm=True, filterrad=4.0, resample=None, url=None, data=None, **kwargs)>"
      ]
     },
     "execution_count": 9,
     "metadata": {},
     "output_type": "execute_result"
    },
    {
     "data": {
      "image/png": "[encoded data removed]",
      "text/plain": [
       "<Figure size 432x288 with 1 Axes>"
      ]
     },
     "metadata": {
      "needs_background": "light"
     },
     "output_type": "display_data"
    }
   ],
   "source": [
    "plt.imshow(preprocess[0].reshape((200,200)),cmap=plt.cm.binary)\n",
    "plt.imshow"
   ]
  },
  {
   "cell_type": "code",
   "execution_count": 10,
   "metadata": {},
   "outputs": [],
   "source": [
    "sentiments = df[\"overall_sentiment\"]"
   ]
  },
  {
   "cell_type": "code",
   "execution_count": 11,
   "metadata": {},
   "outputs": [],
   "source": [
    "xtrain,xtest,ytrain,ytest = train_test_split(preprocess,sentiments,test_size=0.1,random_state=50)"
   ]
  },
  {
   "cell_type": "code",
   "execution_count": 12,
   "metadata": {},
   "outputs": [],
   "source": [
    "xtrain = np.array(xtrain)\n",
    "xtest = np.array(xtest)\n",
    "ytrain = np.array(ytrain)\n",
    "ytest = np.array(ytest)"
   ]
  },
  {
   "cell_type": "code",
   "execution_count": 13,
   "metadata": {},
   "outputs": [],
   "source": [
    "s1,x1,y1=xtrain.shape\n",
    "s2,x2,y2=xtest.shape\n",
    "xtrain = xtrain.reshape(s1,x1*y1)\n",
    "xtest = xtest.reshape(s2,x2*y2)"
   ]
  },
  {
   "cell_type": "code",
   "execution_count": 14,
   "metadata": {},
   "outputs": [],
   "source": [
    "from sklearn import tree\n",
    "model2 = tree.DecisionTreeClassifier()\n",
    "model2 = model2.fit(xtrain,ytrain)"
   ]
  },
  {
   "cell_type": "code",
   "execution_count": 15,
   "metadata": {},
   "outputs": [
    {
     "data": {
      "text/plain": [
       "array([0, 1, 1, 0, 2, 0, 2, 2, 1, 4, 1, 1, 2, 1, 2, 2, 0, 0, 3, 2, 1, 2,\n",
       "       1, 2, 1, 2, 1, 0, 2, 2, 2, 2, 1, 0, 3, 3, 2, 1, 1, 0, 0, 1, 3, 1,\n",
       "       1, 1, 0, 2, 1, 0, 2, 4, 2, 0, 1, 1, 2, 2, 2, 2, 0, 2, 4, 1, 2, 2,\n",
       "       2, 1, 1, 1, 1, 2, 1, 1, 0, 1, 2, 2, 1, 2, 1, 1, 2, 2, 0, 1, 2, 1,\n",
       "       0, 2, 1, 1, 2, 3, 0, 0, 1, 2, 1, 2, 1, 0, 2, 1, 2, 1, 3, 2, 2, 3,\n",
       "       1, 2, 2, 1, 1, 3, 1, 0, 2, 1, 2, 0, 2, 2, 0, 2, 2, 2, 1, 2, 2, 2,\n",
       "       0, 1, 2, 2, 3, 1, 2, 1, 3, 1, 1, 1, 2, 0, 2, 1, 2, 2, 1, 2, 1, 1,\n",
       "       2, 1, 2, 2, 2, 0, 1, 2, 1, 2, 0, 1, 3, 1, 2, 2, 3, 2, 1, 2, 1, 2,\n",
       "       1, 3, 1, 1, 1, 2, 2, 1, 2, 1, 1, 0, 2, 2, 1, 0, 1, 2, 1, 0, 1, 0,\n",
       "       2, 1, 0, 4, 1, 0, 2, 1, 1, 0, 2, 1, 0, 1, 2, 2, 2, 3, 2, 0, 0, 1,\n",
       "       2, 2, 1, 2, 1, 1, 1, 1, 1, 1, 2, 1, 0, 1, 0, 2, 1, 2, 1, 2, 1, 2,\n",
       "       2, 1, 2, 3, 1, 3, 2, 0, 1, 1, 0, 2, 0, 2, 2, 1, 2, 2, 3, 2, 1, 1,\n",
       "       1, 0, 2, 2, 2, 1, 1, 2, 2, 2, 1, 2, 1, 0, 0, 1, 1, 1, 1, 1, 1, 1,\n",
       "       1, 3, 0, 1, 2, 1, 0, 1, 3, 1, 1, 2, 1, 2, 0, 2, 1, 2, 2, 1, 2, 2,\n",
       "       1, 2, 2, 2, 1, 1, 4, 0, 0, 1, 1, 3, 1, 1, 1, 2, 1, 0, 1, 2, 1, 1,\n",
       "       2, 2, 1, 2, 1, 0, 0, 2, 0, 1, 2, 2, 2, 0, 4, 2, 0, 0, 1, 2, 3, 3,\n",
       "       1, 2, 2, 0, 0, 2, 3, 1, 2, 3, 1, 1, 0, 2, 0, 1, 0, 1, 0, 2, 1, 1,\n",
       "       2, 1, 3, 2, 1, 2, 1, 2, 1, 0, 1, 1, 1, 0, 1, 2, 2, 1, 0, 0, 1, 3,\n",
       "       1, 1, 1, 1, 4, 2, 1, 3, 1, 1, 1, 1, 1, 1, 3, 2, 1, 2, 1, 3, 3, 1,\n",
       "       1, 2, 1, 0, 1, 2, 0, 2, 2, 2, 0, 1, 1, 3, 0, 3, 1, 2, 2, 1, 1, 1,\n",
       "       1, 1, 3, 2, 1, 1, 2, 2, 1, 1, 1, 1, 1, 0, 4, 2, 1, 1, 2, 1, 1, 2,\n",
       "       2, 3, 1, 1, 0, 1, 2, 0, 2, 3, 1, 0, 1, 2, 4, 4, 1, 2, 3, 3, 2, 1,\n",
       "       2, 1, 1, 1, 1, 2, 2, 2, 3, 3, 2, 1, 3, 2, 1, 1, 3, 4, 1, 1, 1, 2,\n",
       "       0, 3, 0, 1, 1, 2, 1, 2, 0, 2, 2, 2, 1, 0, 2, 1, 1, 1, 2, 3, 1, 1,\n",
       "       3, 3, 1, 2, 2, 2, 2, 2, 0, 2, 0, 2, 2, 1, 1, 0, 1, 1, 0, 2, 4, 2,\n",
       "       1, 1, 1, 2, 1, 1, 2, 1, 0, 1, 0, 0, 2, 2, 2, 0, 1, 0, 2, 1, 1, 2,\n",
       "       1, 3, 1, 3, 2, 2, 1, 1, 1, 2, 1, 1, 1, 1, 2, 1, 1, 1, 1, 1, 2, 0,\n",
       "       2, 0, 2, 4, 0, 2, 0, 2, 2, 0, 1, 3, 1, 2, 0, 1, 1, 1, 1, 1, 2, 2,\n",
       "       1, 1, 2, 2, 1, 1, 1, 2, 3, 0], dtype=int64)"
      ]
     },
     "execution_count": 15,
     "metadata": {},
     "output_type": "execute_result"
    }
   ],
   "source": [
    "predict2 = model2.predict(xtest)\n",
    "predict2"
   ]
  },
  {
   "cell_type": "code",
   "execution_count": 16,
   "metadata": {},
   "outputs": [
    {
     "name": "stdout",
     "output_type": "stream",
     "text": [
      "              precision    recall  f1-score   support\n",
      "\n",
      "           0       0.47      0.47      0.47        94\n",
      "           1       0.68      0.55      0.61       318\n",
      "           2       0.52      0.63      0.57       174\n",
      "           3       0.43      0.68      0.53        31\n",
      "           4       0.46      0.67      0.55         9\n",
      "\n",
      "    accuracy                           0.57       626\n",
      "   macro avg       0.51      0.60      0.54       626\n",
      "weighted avg       0.59      0.57      0.57       626\n",
      "\n",
      "57.02875399361022\n",
      "57.29846784319215\n"
     ]
    }
   ],
   "source": [
    "from sklearn.metrics import accuracy_score,confusion_matrix,classification_report,f1_score\n",
    "print(classification_report(ytest,predict2))\n",
    "print(accuracy_score(ytest,predict2)*100)\n",
    "print(f1_score(ytest,predict2,average=\"weighted\")*100)\n",
    "macrof1 = f1_score(ytest,predict2,average=\"weighted\")\n",
    "weightedf1 = f1_score(ytest,predict2,average=\"macro\")\n"
   ]
  },
  {
   "cell_type": "code",
   "execution_count": 17,
   "metadata": {},
   "outputs": [],
   "source": [
    "from sklearn.neighbors import RadiusNeighborsClassifier, KNeighborsClassifier\n",
    "from sklearn.metrics import accuracy_score,confusion_matrix,classification_report,f1_score"
   ]
  },
  {
   "cell_type": "code",
   "execution_count": 18,
   "metadata": {},
   "outputs": [
    {
     "data": {
      "text/plain": [
       "KNeighborsClassifier(n_neighbors=83, weights='distance')"
      ]
     },
     "execution_count": 18,
     "metadata": {},
     "output_type": "execute_result"
    }
   ],
   "source": [
    "model1 = KNeighborsClassifier(n_neighbors= 83,weights='distance')\n",
    "model1.fit(xtrain,ytrain)"
   ]
  },
  {
   "cell_type": "code",
   "execution_count": 19,
   "metadata": {},
   "outputs": [
    {
     "data": {
      "text/plain": [
       "array([0, 1, 1, 1, 2, 1, 1, 1, 1, 4, 1, 1, 1, 1, 1, 1, 0, 1, 1, 2, 1, 2,\n",
       "       1, 1, 1, 1, 1, 1, 2, 2, 1, 2, 1, 0, 3, 3, 2, 1, 1, 1, 1, 1, 1, 1,\n",
       "       1, 1, 0, 1, 1, 1, 1, 1, 1, 0, 1, 1, 2, 2, 2, 2, 1, 2, 1, 1, 2, 1,\n",
       "       1, 1, 1, 1, 1, 2, 1, 1, 1, 1, 2, 2, 1, 2, 1, 1, 2, 2, 0, 1, 1, 1,\n",
       "       1, 1, 1, 1, 2, 3, 0, 1, 1, 1, 1, 1, 1, 0, 2, 1, 2, 1, 1, 1, 1, 3,\n",
       "       1, 1, 1, 1, 1, 1, 1, 1, 2, 1, 2, 1, 1, 2, 1, 2, 1, 1, 1, 1, 2, 2,\n",
       "       1, 1, 1, 1, 1, 1, 1, 1, 3, 1, 1, 1, 2, 1, 1, 1, 1, 1, 1, 1, 1, 1,\n",
       "       1, 1, 1, 2, 1, 0, 1, 1, 1, 1, 0, 1, 3, 1, 1, 1, 3, 2, 1, 1, 1, 1,\n",
       "       1, 3, 1, 1, 1, 2, 2, 1, 1, 1, 1, 1, 2, 2, 1, 1, 1, 1, 1, 1, 1, 0,\n",
       "       1, 1, 1, 4, 1, 0, 1, 1, 1, 0, 1, 1, 0, 1, 1, 1, 2, 1, 1, 1, 0, 1,\n",
       "       1, 2, 1, 2, 1, 1, 1, 1, 1, 1, 1, 1, 1, 1, 1, 2, 1, 1, 1, 1, 1, 1,\n",
       "       2, 1, 2, 1, 1, 1, 2, 1, 1, 1, 1, 2, 0, 2, 1, 1, 1, 2, 3, 2, 1, 1,\n",
       "       1, 1, 1, 1, 1, 1, 1, 1, 2, 1, 1, 1, 1, 1, 1, 1, 1, 1, 1, 1, 1, 1,\n",
       "       1, 1, 1, 1, 1, 1, 1, 1, 1, 1, 1, 1, 1, 1, 0, 1, 1, 1, 1, 1, 2, 2,\n",
       "       1, 2, 1, 2, 1, 1, 1, 1, 1, 1, 1, 3, 1, 1, 1, 1, 1, 0, 1, 1, 1, 1,\n",
       "       1, 1, 1, 2, 1, 1, 1, 1, 1, 1, 1, 1, 2, 0, 1, 2, 0, 0, 1, 2, 1, 3,\n",
       "       1, 1, 2, 0, 1, 1, 1, 1, 1, 1, 1, 1, 0, 1, 1, 1, 0, 1, 0, 1, 1, 1,\n",
       "       1, 1, 3, 2, 1, 1, 1, 2, 1, 0, 1, 1, 1, 0, 1, 1, 1, 1, 1, 1, 1, 1,\n",
       "       1, 1, 1, 1, 1, 2, 1, 3, 1, 1, 1, 1, 1, 1, 3, 1, 1, 1, 1, 3, 1, 1,\n",
       "       1, 1, 1, 1, 1, 2, 1, 1, 2, 2, 1, 1, 1, 3, 0, 1, 1, 2, 2, 1, 1, 1,\n",
       "       1, 1, 3, 1, 1, 1, 2, 2, 1, 1, 1, 1, 1, 1, 1, 2, 1, 1, 2, 1, 1, 2,\n",
       "       1, 3, 1, 1, 1, 1, 1, 0, 1, 1, 1, 1, 1, 1, 4, 4, 1, 1, 1, 3, 1, 1,\n",
       "       1, 1, 1, 1, 1, 1, 1, 2, 1, 1, 1, 1, 1, 1, 1, 1, 3, 4, 1, 1, 1, 1,\n",
       "       0, 1, 1, 1, 1, 1, 1, 2, 1, 1, 1, 2, 1, 1, 1, 1, 1, 1, 2, 1, 1, 1,\n",
       "       3, 1, 1, 1, 1, 2, 1, 2, 0, 1, 0, 2, 1, 1, 1, 0, 1, 1, 1, 1, 4, 1,\n",
       "       1, 1, 1, 2, 1, 1, 2, 1, 0, 1, 1, 0, 1, 2, 1, 0, 1, 1, 1, 1, 1, 1,\n",
       "       1, 1, 1, 1, 1, 2, 1, 1, 1, 1, 1, 1, 1, 1, 1, 1, 1, 1, 1, 1, 1, 1,\n",
       "       1, 0, 2, 1, 0, 1, 1, 2, 2, 0, 1, 3, 1, 1, 0, 1, 1, 1, 1, 1, 1, 2,\n",
       "       1, 1, 2, 2, 1, 1, 1, 1, 3, 0], dtype=int64)"
      ]
     },
     "execution_count": 19,
     "metadata": {},
     "output_type": "execute_result"
    }
   ],
   "source": [
    "predict1 = model1.predict(xtest)\n",
    "predict1"
   ]
  },
  {
   "cell_type": "code",
   "execution_count": 20,
   "metadata": {},
   "outputs": [
    {
     "name": "stdout",
     "output_type": "stream",
     "text": [
      "              precision    recall  f1-score   support\n",
      "\n",
      "           0       1.00      0.44      0.61        94\n",
      "           1       0.67      1.00      0.80       318\n",
      "           2       1.00      0.49      0.66       174\n",
      "           3       0.87      0.65      0.74        31\n",
      "           4       1.00      0.67      0.80         9\n",
      "\n",
      "    accuracy                           0.75       626\n",
      "   macro avg       0.91      0.65      0.72       626\n",
      "weighted avg       0.83      0.75      0.73       626\n",
      "\n",
      "75.07987220447284\n",
      "73.19804208388565\n"
     ]
    }
   ],
   "source": [
    "print(classification_report(ytest,predict1))\n",
    "print(accuracy_score(ytest,predict1)*100)\n",
    "print(f1_score(ytest,predict1,average=\"weighted\")*100)\n",
    "macrof1 = macrof1 + f1_score(ytest,predict2,average=\"weighted\")\n",
    "weightedf1 =weightedf1+ f1_score(ytest,predict2,average=\"macro\")\n"
   ]
  },
  {
   "cell_type": "code",
   "execution_count": 21,
   "metadata": {},
   "outputs": [],
   "source": [
    "from sklearn.ensemble import RandomForestClassifier\n",
    "from sklearn.datasets import make_classification"
   ]
  },
  {
   "cell_type": "code",
   "execution_count": 22,
   "metadata": {},
   "outputs": [],
   "source": [
    "model3 = RandomForestClassifier(random_state=50,n_estimators=100)"
   ]
  },
  {
   "cell_type": "code",
   "execution_count": 23,
   "metadata": {},
   "outputs": [
    {
     "data": {
      "text/plain": [
       "RandomForestClassifier(random_state=50)"
      ]
     },
     "execution_count": 23,
     "metadata": {},
     "output_type": "execute_result"
    }
   ],
   "source": [
    "model3.fit(xtrain,ytrain)"
   ]
  },
  {
   "cell_type": "code",
   "execution_count": 24,
   "metadata": {},
   "outputs": [
    {
     "data": {
      "text/plain": [
       "array([0, 1, 1, 1, 2, 1, 1, 1, 1, 4, 1, 1, 1, 1, 1, 1, 0, 1, 1, 2, 1, 2,\n",
       "       1, 1, 1, 1, 1, 1, 2, 2, 1, 2, 1, 0, 3, 3, 2, 1, 1, 1, 1, 1, 1, 1,\n",
       "       1, 1, 0, 1, 1, 1, 1, 1, 1, 1, 1, 1, 2, 2, 2, 2, 1, 2, 2, 1, 2, 1,\n",
       "       1, 1, 1, 1, 1, 2, 1, 1, 1, 1, 2, 2, 1, 2, 1, 1, 2, 2, 0, 1, 1, 1,\n",
       "       1, 1, 1, 1, 2, 3, 0, 1, 1, 1, 1, 1, 1, 0, 2, 1, 2, 1, 1, 1, 1, 3,\n",
       "       1, 1, 1, 1, 1, 1, 1, 1, 2, 1, 2, 1, 1, 2, 1, 2, 1, 1, 1, 1, 2, 2,\n",
       "       1, 1, 1, 1, 1, 1, 1, 1, 3, 1, 1, 1, 2, 1, 1, 1, 1, 1, 1, 1, 1, 1,\n",
       "       1, 1, 1, 2, 1, 0, 1, 1, 1, 1, 0, 1, 3, 1, 1, 1, 3, 2, 1, 1, 1, 1,\n",
       "       1, 3, 1, 1, 1, 2, 2, 1, 1, 1, 1, 1, 2, 2, 1, 1, 1, 1, 1, 1, 1, 0,\n",
       "       1, 1, 1, 4, 1, 0, 1, 1, 1, 0, 1, 1, 0, 1, 1, 1, 2, 1, 1, 1, 0, 1,\n",
       "       1, 2, 1, 2, 1, 1, 1, 1, 1, 1, 1, 2, 1, 1, 1, 2, 1, 1, 1, 1, 1, 1,\n",
       "       2, 1, 2, 1, 1, 1, 2, 1, 1, 1, 1, 2, 0, 2, 1, 1, 1, 2, 3, 2, 1, 1,\n",
       "       1, 1, 1, 1, 1, 1, 1, 1, 2, 1, 1, 1, 1, 1, 1, 1, 1, 2, 1, 1, 1, 1,\n",
       "       1, 1, 2, 1, 1, 1, 1, 1, 1, 1, 1, 1, 1, 1, 0, 1, 1, 1, 1, 1, 2, 2,\n",
       "       1, 2, 1, 2, 1, 1, 1, 1, 1, 1, 1, 3, 1, 1, 1, 1, 1, 0, 1, 1, 1, 1,\n",
       "       1, 1, 1, 2, 1, 1, 1, 1, 1, 1, 1, 1, 2, 0, 1, 2, 0, 0, 1, 2, 1, 3,\n",
       "       1, 1, 2, 0, 1, 1, 1, 1, 1, 1, 1, 1, 0, 1, 1, 1, 0, 1, 0, 1, 1, 1,\n",
       "       1, 2, 3, 2, 1, 1, 1, 1, 1, 0, 1, 1, 1, 0, 1, 1, 1, 1, 1, 1, 1, 1,\n",
       "       1, 1, 1, 1, 1, 2, 1, 3, 1, 1, 1, 1, 1, 1, 3, 1, 1, 1, 1, 3, 1, 1,\n",
       "       1, 1, 1, 1, 2, 2, 1, 1, 2, 2, 1, 1, 1, 3, 0, 1, 1, 2, 2, 1, 1, 1,\n",
       "       1, 1, 3, 1, 1, 1, 2, 2, 1, 1, 1, 1, 1, 1, 1, 2, 1, 1, 2, 1, 1, 2,\n",
       "       1, 3, 1, 1, 1, 1, 1, 0, 1, 1, 1, 1, 1, 1, 4, 4, 1, 1, 1, 3, 1, 1,\n",
       "       1, 1, 1, 1, 1, 1, 1, 2, 1, 1, 1, 1, 1, 1, 1, 1, 3, 4, 1, 1, 1, 1,\n",
       "       0, 1, 1, 1, 1, 1, 1, 2, 1, 1, 1, 2, 1, 1, 1, 1, 1, 1, 2, 1, 1, 1,\n",
       "       3, 1, 1, 1, 1, 2, 1, 2, 0, 1, 0, 2, 1, 1, 1, 0, 1, 1, 1, 1, 4, 1,\n",
       "       1, 1, 1, 2, 1, 1, 2, 1, 0, 1, 1, 0, 1, 2, 1, 0, 1, 1, 1, 1, 1, 1,\n",
       "       1, 1, 1, 1, 1, 2, 1, 1, 1, 1, 1, 1, 1, 1, 1, 1, 1, 1, 1, 1, 1, 1,\n",
       "       1, 0, 2, 1, 0, 1, 1, 2, 2, 0, 1, 3, 1, 1, 0, 1, 1, 1, 1, 1, 1, 2,\n",
       "       1, 1, 2, 2, 1, 1, 1, 1, 3, 0], dtype=int64)"
      ]
     },
     "execution_count": 24,
     "metadata": {},
     "output_type": "execute_result"
    }
   ],
   "source": [
    "predict3 = model3.predict(xtest)\n",
    "predict3"
   ]
  },
  {
   "cell_type": "code",
   "execution_count": 25,
   "metadata": {},
   "outputs": [
    {
     "name": "stdout",
     "output_type": "stream",
     "text": [
      "              precision    recall  f1-score   support\n",
      "\n",
      "           0       1.00      0.43      0.60        94\n",
      "           1       0.67      0.98      0.80       318\n",
      "           2       0.95      0.49      0.65       174\n",
      "           3       0.87      0.65      0.74        31\n",
      "           4       1.00      0.67      0.80         9\n",
      "\n",
      "    accuracy                           0.74       626\n",
      "   macro avg       0.90      0.64      0.72       626\n",
      "weighted avg       0.81      0.74      0.72       626\n",
      "\n",
      "74.12140575079871\n",
      "72.25563192028241\n"
     ]
    }
   ],
   "source": [
    "print(classification_report(ytest,predict3))\n",
    "print(accuracy_score(ytest,predict3)*100)\n",
    "print(f1_score(ytest,predict3,average=\"weighted\")*100)\n",
    "macrof1 = macrof1 + f1_score(ytest,predict2,average=\"weighted\")\n",
    "weightedf1 =weightedf1+ f1_score(ytest,predict2,average=\"macro\")"
   ]
  },
  {
   "cell_type": "code",
   "execution_count": 26,
   "metadata": {},
   "outputs": [
    {
     "data": {
      "text/plain": [
       "0       you cant put me in jail im not even black Sgt ...\n",
       "1       When you find out your A1C Type 1 Diabetes Mem...\n",
       "2       Rahul Gandhi these days - We don't need Rafael...\n",
       "3       ...LEAVE THE RED SOX THEY SAID Dodgers Dodgers...\n",
       "4              GODFATHER GOT BABY DAUGHTER BRASS KNUCKLES\n",
       "                              ...                        \n",
       "6249    IDONTALWAYS PLAYTHE PIANO BUT WHEN IDOIES WITH...\n",
       "6250    Create a hashtag for this... \"NO TIME TO EXPLA...\n",
       "6251    If you're going on-and-on-and-on about your pr...\n",
       "6252    LESS MORE TALKING PLANNING SODA JUNK FOOD COMP...\n",
       "6253    The starting point for every good idea is \"Wha...\n",
       "Name: text_corrected, Length: 6254, dtype: object"
      ]
     },
     "execution_count": 26,
     "metadata": {},
     "output_type": "execute_result"
    }
   ],
   "source": [
    "text = df['text_corrected']\n",
    "text"
   ]
  },
  {
   "cell_type": "code",
   "execution_count": 27,
   "metadata": {},
   "outputs": [
    {
     "data": {
      "text/plain": [
       "(6254, 3000)"
      ]
     },
     "execution_count": 27,
     "metadata": {},
     "output_type": "execute_result"
    }
   ],
   "source": [
    "from sklearn.feature_extraction.text import CountVectorizer\n",
    "from sklearn.feature_extraction.text import TfidfVectorizer\n",
    "from nltk.corpus import stopwords\n",
    "vec = TfidfVectorizer(max_features=3000,stop_words=stopwords.words('english'),ngram_range=(2,4))\n",
    "xdata = vec.fit_transform(text.values.astype(\"U\"))\n",
    "xdata.shape"
   ]
  },
  {
   "cell_type": "code",
   "execution_count": 28,
   "metadata": {},
   "outputs": [
    {
     "data": {
      "text/plain": [
       "array([2, 0, 2, ..., 1, 1, 1], dtype=int64)"
      ]
     },
     "execution_count": 28,
     "metadata": {},
     "output_type": "execute_result"
    }
   ],
   "source": [
    "ydata = df['overall_sentiment'].values\n",
    "ydata"
   ]
  },
  {
   "cell_type": "code",
   "execution_count": 29,
   "metadata": {},
   "outputs": [
    {
     "data": {
      "text/plain": [
       "array([1, 1, 1, ..., 3, 1, 1], dtype=int64)"
      ]
     },
     "execution_count": 29,
     "metadata": {},
     "output_type": "execute_result"
    }
   ],
   "source": [
    "xtrain2,xtest2,ytrain2,ytest2 = train_test_split(xdata,ydata,test_size=0.1,random_state=50)\n",
    "xtrain2 = xtrain2.toarray()\n",
    "xtest2 = xtest2.toarray()\n",
    "ytrain2\n"
   ]
  },
  {
   "cell_type": "code",
   "execution_count": 30,
   "metadata": {},
   "outputs": [],
   "source": [
    "from sklearn.naive_bayes import MultinomialNB\n",
    "\n",
    "tmodel = MultinomialNB().fit(xtrain2, ytrain2)\n"
   ]
  },
  {
   "cell_type": "code",
   "execution_count": 31,
   "metadata": {},
   "outputs": [
    {
     "data": {
      "text/plain": [
       "array([2, 1, 1, 1, 1, 1, 1, 1, 1, 1, 1, 1, 1, 1, 1, 1, 0, 1, 1, 2, 1, 1,\n",
       "       1, 1, 2, 1, 1, 1, 1, 2, 1, 1, 1, 1, 3, 1, 2, 1, 1, 1, 1, 1, 1, 1,\n",
       "       1, 2, 1, 1, 1, 1, 1, 1, 1, 1, 1, 1, 0, 1, 1, 1, 1, 2, 1, 1, 2, 1,\n",
       "       1, 1, 1, 1, 1, 2, 1, 1, 1, 1, 1, 2, 1, 1, 1, 1, 1, 1, 0, 1, 1, 1,\n",
       "       1, 1, 1, 1, 1, 3, 1, 1, 1, 1, 1, 1, 1, 1, 1, 1, 1, 1, 1, 1, 1, 1,\n",
       "       1, 1, 2, 1, 1, 1, 1, 1, 2, 1, 1, 1, 1, 1, 1, 2, 2, 1, 1, 1, 1, 2,\n",
       "       1, 1, 1, 1, 1, 1, 1, 1, 1, 1, 1, 1, 2, 1, 1, 2, 1, 1, 1, 1, 1, 1,\n",
       "       1, 1, 1, 1, 1, 0, 1, 1, 1, 1, 1, 1, 1, 2, 1, 1, 1, 1, 1, 1, 1, 1,\n",
       "       1, 1, 1, 1, 1, 2, 2, 1, 1, 1, 1, 1, 1, 1, 1, 1, 1, 1, 1, 1, 1, 0,\n",
       "       1, 1, 1, 1, 1, 1, 1, 1, 1, 0, 1, 1, 1, 1, 1, 1, 1, 1, 1, 1, 0, 1,\n",
       "       1, 1, 1, 1, 1, 1, 1, 1, 1, 1, 1, 1, 1, 1, 1, 2, 1, 1, 1, 1, 1, 1,\n",
       "       1, 1, 1, 1, 1, 1, 2, 1, 1, 1, 1, 1, 1, 2, 1, 1, 1, 2, 1, 2, 1, 1,\n",
       "       1, 1, 1, 1, 1, 1, 1, 1, 1, 1, 1, 1, 1, 1, 1, 1, 1, 1, 1, 1, 1, 1,\n",
       "       1, 1, 1, 1, 1, 1, 1, 1, 1, 1, 1, 1, 1, 1, 1, 1, 1, 1, 1, 1, 1, 2,\n",
       "       0, 1, 1, 2, 1, 1, 1, 2, 1, 1, 2, 1, 1, 1, 1, 1, 1, 1, 1, 1, 1, 1,\n",
       "       1, 1, 1, 1, 1, 1, 1, 1, 1, 1, 1, 1, 2, 0, 1, 1, 2, 0, 1, 1, 1, 1,\n",
       "       1, 1, 1, 0, 1, 1, 1, 1, 1, 2, 1, 1, 1, 1, 2, 1, 1, 1, 0, 1, 1, 1,\n",
       "       1, 1, 1, 1, 1, 1, 1, 1, 1, 0, 1, 1, 1, 0, 1, 1, 1, 1, 1, 1, 1, 1,\n",
       "       1, 1, 1, 1, 1, 2, 1, 1, 1, 1, 1, 1, 1, 1, 1, 1, 1, 1, 1, 1, 1, 0,\n",
       "       1, 1, 1, 1, 1, 1, 1, 1, 1, 1, 1, 1, 2, 2, 0, 1, 1, 2, 2, 1, 1, 1,\n",
       "       1, 1, 1, 1, 1, 1, 1, 1, 1, 1, 1, 1, 1, 1, 1, 1, 1, 1, 2, 1, 1, 1,\n",
       "       1, 1, 1, 1, 1, 1, 1, 1, 1, 1, 1, 1, 1, 1, 1, 1, 1, 1, 1, 1, 1, 1,\n",
       "       1, 1, 1, 1, 1, 1, 1, 1, 1, 1, 1, 1, 1, 1, 1, 1, 1, 1, 1, 1, 1, 1,\n",
       "       0, 1, 1, 1, 1, 1, 1, 1, 1, 1, 1, 1, 1, 1, 2, 1, 1, 1, 1, 1, 2, 1,\n",
       "       1, 1, 1, 1, 1, 2, 1, 2, 1, 1, 2, 1, 1, 1, 1, 1, 1, 1, 1, 1, 1, 1,\n",
       "       1, 1, 1, 2, 1, 1, 1, 1, 1, 1, 1, 0, 1, 1, 1, 1, 1, 1, 1, 1, 1, 1,\n",
       "       1, 1, 1, 1, 1, 1, 1, 1, 1, 1, 1, 1, 1, 1, 1, 1, 1, 1, 1, 1, 1, 1,\n",
       "       1, 0, 1, 1, 1, 1, 1, 1, 1, 1, 1, 1, 1, 1, 0, 1, 1, 1, 1, 1, 1, 1,\n",
       "       1, 1, 2, 1, 1, 1, 1, 1, 1, 0], dtype=int64)"
      ]
     },
     "execution_count": 31,
     "metadata": {},
     "output_type": "execute_result"
    }
   ],
   "source": [
    "\n",
    "tpredict3 = tmodel.predict(xtest2)\n",
    "tpredict3"
   ]
  },
  {
   "cell_type": "code",
   "execution_count": 32,
   "metadata": {},
   "outputs": [
    {
     "name": "stdout",
     "output_type": "stream",
     "text": [
      "              precision    recall  f1-score   support\n",
      "\n",
      "           0       0.86      0.19      0.31        94\n",
      "           1       0.54      0.95      0.69       318\n",
      "           2       0.63      0.17      0.26       174\n",
      "           3       0.50      0.03      0.06        31\n",
      "           4       0.00      0.00      0.00         9\n",
      "\n",
      "    accuracy                           0.56       626\n",
      "   macro avg       0.51      0.27      0.27       626\n",
      "weighted avg       0.61      0.56      0.48       626\n",
      "\n",
      "56.0702875399361\n",
      "47.51043392871425\n"
     ]
    },
    {
     "name": "stderr",
     "output_type": "stream",
     "text": [
      "d:\\anaconda\\lib\\site-packages\\sklearn\\metrics\\_classification.py:1318: UndefinedMetricWarning: Precision and F-score are ill-defined and being set to 0.0 in labels with no predicted samples. Use `zero_division` parameter to control this behavior.\n",
      "  _warn_prf(average, modifier, msg_start, len(result))\n",
      "d:\\anaconda\\lib\\site-packages\\sklearn\\metrics\\_classification.py:1318: UndefinedMetricWarning: Precision and F-score are ill-defined and being set to 0.0 in labels with no predicted samples. Use `zero_division` parameter to control this behavior.\n",
      "  _warn_prf(average, modifier, msg_start, len(result))\n",
      "d:\\anaconda\\lib\\site-packages\\sklearn\\metrics\\_classification.py:1318: UndefinedMetricWarning: Precision and F-score are ill-defined and being set to 0.0 in labels with no predicted samples. Use `zero_division` parameter to control this behavior.\n",
      "  _warn_prf(average, modifier, msg_start, len(result))\n"
     ]
    }
   ],
   "source": [
    "print(classification_report(ytest2,tpredict3))\n",
    "print(accuracy_score(ytest2,tpredict3)*100)\n",
    "print(f1_score(ytest2,tpredict3,average=\"weighted\")*100)\n",
    "macrof1 = macrof1 + f1_score(ytest,predict2,average=\"weighted\")\n",
    "weightedf1 =weightedf1+ f1_score(ytest,predict2,average=\"macro\")"
   ]
  },
  {
   "cell_type": "code",
   "execution_count": 33,
   "metadata": {},
   "outputs": [],
   "source": [
    "from sklearn.pipeline import Pipeline\n",
    "from sklearn.feature_extraction.text import TfidfTransformer\n",
    "from sklearn.linear_model import SGDClassifier\n",
    "tmodel2 = SGDClassifier(loss='log',penalty='l2',max_iter=10000,n_jobs = -1)"
   ]
  },
  {
   "cell_type": "code",
   "execution_count": 34,
   "metadata": {},
   "outputs": [
    {
     "data": {
      "text/plain": [
       "SGDClassifier(loss='log', max_iter=10000, n_jobs=-1)"
      ]
     },
     "execution_count": 34,
     "metadata": {},
     "output_type": "execute_result"
    }
   ],
   "source": [
    "tmodel2.fit(xtrain2,ytrain2)\n"
   ]
  },
  {
   "cell_type": "code",
   "execution_count": 35,
   "metadata": {},
   "outputs": [
    {
     "data": {
      "text/plain": [
       "array([2, 1, 1, 1, 1, 1, 1, 1, 1, 1, 1, 1, 1, 1, 1, 1, 0, 1, 1, 2, 1, 2,\n",
       "       1, 1, 2, 1, 1, 1, 1, 2, 1, 1, 1, 1, 3, 1, 2, 1, 1, 1, 1, 1, 1, 1,\n",
       "       1, 2, 1, 2, 1, 1, 1, 1, 0, 1, 0, 2, 0, 1, 1, 1, 1, 2, 1, 1, 2, 1,\n",
       "       1, 2, 1, 1, 2, 2, 1, 1, 1, 1, 2, 2, 1, 1, 1, 2, 1, 1, 0, 1, 1, 1,\n",
       "       1, 1, 1, 1, 1, 3, 1, 1, 1, 1, 1, 1, 1, 1, 1, 1, 0, 1, 1, 1, 1, 1,\n",
       "       1, 1, 2, 1, 1, 1, 1, 1, 2, 1, 2, 1, 1, 1, 1, 2, 2, 1, 1, 1, 1, 2,\n",
       "       1, 1, 1, 1, 1, 1, 1, 1, 1, 1, 1, 1, 2, 1, 1, 2, 1, 1, 1, 1, 1, 1,\n",
       "       1, 1, 2, 1, 1, 0, 1, 1, 1, 2, 1, 1, 1, 2, 1, 1, 1, 2, 1, 1, 1, 1,\n",
       "       1, 1, 1, 1, 1, 2, 2, 1, 1, 1, 1, 1, 1, 1, 1, 1, 1, 1, 1, 1, 1, 0,\n",
       "       1, 1, 0, 1, 1, 0, 1, 1, 1, 0, 1, 1, 1, 0, 1, 1, 1, 1, 1, 1, 0, 1,\n",
       "       1, 1, 1, 1, 2, 1, 1, 1, 1, 1, 1, 1, 1, 0, 1, 2, 1, 1, 1, 1, 1, 1,\n",
       "       1, 1, 1, 1, 1, 1, 2, 2, 1, 1, 1, 1, 1, 2, 1, 1, 1, 2, 1, 2, 1, 1,\n",
       "       1, 1, 1, 1, 1, 1, 1, 1, 1, 1, 1, 1, 1, 1, 2, 1, 1, 1, 1, 1, 1, 1,\n",
       "       1, 1, 1, 1, 1, 1, 1, 1, 1, 2, 1, 1, 1, 2, 1, 1, 1, 1, 1, 1, 1, 2,\n",
       "       0, 1, 1, 2, 1, 1, 1, 2, 1, 1, 2, 1, 1, 1, 1, 1, 1, 1, 1, 1, 1, 1,\n",
       "       1, 1, 1, 2, 1, 1, 1, 1, 1, 1, 1, 1, 2, 0, 1, 1, 2, 0, 1, 1, 1, 1,\n",
       "       1, 1, 1, 0, 1, 1, 1, 1, 1, 2, 1, 1, 1, 1, 2, 1, 1, 1, 0, 1, 1, 1,\n",
       "       1, 1, 1, 2, 1, 1, 1, 1, 1, 0, 1, 1, 1, 0, 1, 1, 1, 1, 1, 1, 1, 1,\n",
       "       1, 1, 1, 1, 1, 2, 1, 1, 1, 1, 1, 1, 1, 1, 1, 1, 1, 1, 1, 1, 1, 0,\n",
       "       1, 1, 1, 1, 1, 1, 1, 1, 1, 1, 2, 1, 2, 2, 0, 1, 1, 2, 2, 1, 1, 1,\n",
       "       1, 1, 1, 1, 1, 1, 1, 1, 1, 1, 1, 1, 1, 1, 1, 1, 1, 1, 2, 1, 1, 1,\n",
       "       1, 1, 1, 1, 1, 0, 1, 1, 1, 1, 1, 1, 1, 1, 4, 1, 1, 1, 1, 1, 1, 1,\n",
       "       1, 1, 1, 1, 1, 1, 1, 1, 1, 0, 1, 1, 1, 1, 1, 1, 2, 1, 1, 2, 1, 1,\n",
       "       0, 2, 1, 1, 1, 1, 1, 1, 2, 1, 1, 2, 1, 1, 2, 1, 1, 2, 1, 1, 2, 1,\n",
       "       1, 1, 1, 4, 1, 2, 1, 2, 1, 2, 0, 1, 1, 2, 1, 1, 1, 1, 1, 2, 1, 1,\n",
       "       1, 1, 1, 2, 1, 0, 1, 1, 0, 2, 1, 0, 1, 1, 1, 1, 1, 1, 1, 1, 0, 1,\n",
       "       1, 1, 1, 1, 1, 1, 1, 1, 1, 1, 1, 1, 1, 1, 1, 1, 1, 1, 1, 1, 1, 2,\n",
       "       1, 0, 1, 1, 1, 1, 1, 1, 1, 1, 1, 1, 1, 1, 0, 1, 1, 1, 1, 1, 0, 1,\n",
       "       1, 1, 2, 1, 2, 1, 0, 1, 1, 0], dtype=int64)"
      ]
     },
     "execution_count": 35,
     "metadata": {},
     "output_type": "execute_result"
    }
   ],
   "source": [
    "\n",
    "tpredict2 = tmodel2.predict(xtest2)\n",
    "tpredict2"
   ]
  },
  {
   "cell_type": "code",
   "execution_count": 36,
   "metadata": {},
   "outputs": [
    {
     "name": "stdout",
     "output_type": "stream",
     "text": [
      "              precision    recall  f1-score   support\n",
      "\n",
      "           0       0.61      0.23      0.34        94\n",
      "           1       0.55      0.87      0.67       318\n",
      "           2       0.50      0.22      0.30       174\n",
      "           3       0.50      0.03      0.06        31\n",
      "           4       0.50      0.11      0.18         9\n",
      "\n",
      "    accuracy                           0.54       626\n",
      "   macro avg       0.53      0.29      0.31       626\n",
      "weighted avg       0.54      0.54      0.48       626\n",
      "\n",
      "54.31309904153354\n",
      "48.20491501830577\n"
     ]
    }
   ],
   "source": [
    "print(classification_report(ytest2,tpredict2))\n",
    "print(accuracy_score(ytest2,tpredict2)*100)\n",
    "print(f1_score(ytest2,tpredict2,average=\"weighted\")*100)\n",
    "macrof1 = macrof1 + f1_score(ytest,predict2,average=\"weighted\")\n",
    "weightedf1 =weightedf1+ f1_score(ytest,predict2,average=\"macro\")"
   ]
  },
  {
   "cell_type": "code",
   "execution_count": 37,
   "metadata": {},
   "outputs": [],
   "source": [
    "from sklearn.linear_model import LogisticRegression\n",
    "tmodelL = LogisticRegression(random_state=50,max_iter = 10000).fit(xtrain2, ytrain2)\n"
   ]
  },
  {
   "cell_type": "code",
   "execution_count": 38,
   "metadata": {},
   "outputs": [
    {
     "data": {
      "text/plain": [
       "array([2, 1, 1, 1, 1, 1, 1, 1, 1, 1, 1, 1, 1, 1, 1, 1, 1, 1, 1, 2, 1, 1,\n",
       "       1, 1, 2, 1, 1, 1, 1, 2, 1, 1, 1, 1, 3, 1, 2, 1, 1, 1, 1, 1, 1, 1,\n",
       "       1, 2, 1, 2, 1, 1, 1, 1, 1, 1, 0, 2, 2, 1, 1, 1, 1, 2, 1, 1, 2, 1,\n",
       "       1, 2, 1, 1, 1, 2, 1, 1, 1, 1, 2, 2, 1, 1, 1, 2, 1, 1, 0, 1, 1, 1,\n",
       "       1, 1, 1, 1, 1, 3, 1, 1, 1, 1, 1, 1, 1, 1, 1, 1, 0, 1, 1, 1, 1, 1,\n",
       "       1, 1, 2, 1, 1, 1, 1, 1, 2, 1, 2, 1, 1, 1, 1, 2, 2, 1, 1, 1, 1, 2,\n",
       "       1, 1, 1, 1, 1, 1, 1, 1, 1, 1, 1, 1, 2, 1, 1, 2, 1, 1, 1, 1, 1, 1,\n",
       "       1, 1, 2, 1, 1, 0, 1, 1, 1, 2, 1, 1, 1, 1, 1, 1, 1, 2, 1, 1, 1, 1,\n",
       "       1, 1, 1, 1, 1, 2, 2, 1, 1, 1, 1, 1, 1, 1, 1, 1, 1, 1, 1, 1, 1, 0,\n",
       "       1, 1, 1, 1, 1, 1, 1, 1, 1, 0, 1, 1, 1, 1, 1, 1, 1, 1, 1, 1, 0, 1,\n",
       "       1, 1, 1, 1, 2, 1, 1, 1, 1, 1, 1, 1, 1, 0, 1, 2, 1, 1, 1, 1, 1, 1,\n",
       "       1, 1, 1, 1, 1, 1, 2, 2, 1, 1, 1, 1, 1, 2, 1, 1, 1, 2, 1, 2, 1, 1,\n",
       "       1, 1, 1, 1, 1, 1, 1, 1, 1, 1, 1, 1, 1, 1, 1, 1, 1, 1, 1, 1, 1, 1,\n",
       "       1, 1, 1, 1, 1, 1, 1, 1, 1, 1, 1, 1, 1, 2, 1, 1, 1, 1, 1, 1, 1, 2,\n",
       "       0, 1, 1, 2, 1, 1, 1, 2, 1, 1, 2, 1, 1, 1, 1, 1, 1, 1, 1, 1, 1, 1,\n",
       "       1, 1, 1, 2, 1, 1, 1, 1, 1, 1, 1, 1, 2, 0, 1, 1, 2, 0, 1, 1, 1, 1,\n",
       "       1, 1, 1, 0, 1, 1, 1, 1, 1, 2, 1, 1, 1, 1, 2, 1, 1, 1, 0, 1, 1, 1,\n",
       "       1, 1, 1, 2, 1, 1, 1, 1, 1, 1, 1, 1, 1, 0, 1, 1, 1, 1, 1, 1, 1, 1,\n",
       "       1, 1, 1, 1, 1, 2, 1, 1, 1, 1, 1, 1, 1, 1, 1, 1, 1, 1, 1, 1, 1, 1,\n",
       "       1, 1, 1, 1, 1, 1, 1, 1, 1, 1, 2, 1, 2, 2, 0, 1, 1, 2, 2, 1, 1, 1,\n",
       "       1, 1, 1, 1, 1, 1, 1, 1, 1, 1, 1, 1, 1, 1, 1, 1, 1, 1, 1, 1, 1, 1,\n",
       "       1, 1, 1, 1, 1, 1, 1, 1, 1, 1, 1, 1, 1, 1, 1, 1, 1, 1, 1, 1, 1, 1,\n",
       "       1, 1, 1, 1, 1, 1, 1, 1, 1, 0, 1, 1, 1, 1, 1, 1, 2, 1, 1, 1, 1, 1,\n",
       "       0, 2, 1, 1, 1, 1, 1, 1, 2, 1, 1, 2, 1, 1, 2, 1, 1, 2, 1, 1, 2, 1,\n",
       "       1, 1, 1, 1, 1, 2, 1, 2, 1, 2, 2, 1, 1, 2, 1, 1, 1, 1, 1, 1, 1, 1,\n",
       "       1, 1, 1, 2, 1, 1, 1, 1, 1, 2, 1, 1, 1, 1, 1, 1, 1, 1, 1, 1, 0, 1,\n",
       "       1, 1, 1, 1, 1, 1, 1, 1, 1, 1, 1, 1, 1, 1, 1, 1, 1, 1, 1, 1, 1, 2,\n",
       "       1, 1, 1, 1, 1, 1, 1, 1, 1, 1, 1, 1, 1, 1, 0, 1, 1, 1, 1, 1, 1, 1,\n",
       "       1, 1, 2, 1, 2, 1, 0, 1, 1, 0], dtype=int64)"
      ]
     },
     "execution_count": 38,
     "metadata": {},
     "output_type": "execute_result"
    }
   ],
   "source": [
    "tpredict2L = tmodelL.predict(xtest2)\n",
    "tpredict2L"
   ]
  },
  {
   "cell_type": "code",
   "execution_count": 39,
   "metadata": {},
   "outputs": [
    {
     "name": "stdout",
     "output_type": "stream",
     "text": [
      "              precision    recall  f1-score   support\n",
      "\n",
      "           0       0.71      0.16      0.26        94\n",
      "           1       0.54      0.91      0.68       318\n",
      "           2       0.53      0.21      0.30       174\n",
      "           3       0.50      0.03      0.06        31\n",
      "           4       0.00      0.00      0.00         9\n",
      "\n",
      "    accuracy                           0.55       626\n",
      "   macro avg       0.46      0.26      0.26       626\n",
      "weighted avg       0.56      0.55      0.47       626\n",
      "\n",
      "54.7923322683706\n",
      "47.269053323742156\n"
     ]
    },
    {
     "name": "stderr",
     "output_type": "stream",
     "text": [
      "d:\\anaconda\\lib\\site-packages\\sklearn\\metrics\\_classification.py:1318: UndefinedMetricWarning: Precision and F-score are ill-defined and being set to 0.0 in labels with no predicted samples. Use `zero_division` parameter to control this behavior.\n",
      "  _warn_prf(average, modifier, msg_start, len(result))\n",
      "d:\\anaconda\\lib\\site-packages\\sklearn\\metrics\\_classification.py:1318: UndefinedMetricWarning: Precision and F-score are ill-defined and being set to 0.0 in labels with no predicted samples. Use `zero_division` parameter to control this behavior.\n",
      "  _warn_prf(average, modifier, msg_start, len(result))\n",
      "d:\\anaconda\\lib\\site-packages\\sklearn\\metrics\\_classification.py:1318: UndefinedMetricWarning: Precision and F-score are ill-defined and being set to 0.0 in labels with no predicted samples. Use `zero_division` parameter to control this behavior.\n",
      "  _warn_prf(average, modifier, msg_start, len(result))\n"
     ]
    }
   ],
   "source": [
    "print(classification_report(ytest2,tpredict2L))\n",
    "print(accuracy_score(ytest2,tpredict2L)*100)\n",
    "print(f1_score(ytest2,tpredict2L,average=\"weighted\")*100)\n",
    "macrof1 = macrof1 + f1_score(ytest,predict2,average=\"weighted\")\n",
    "weightedf1 =weightedf1+ f1_score(ytest,predict2,average=\"macro\")"
   ]
  },
  {
   "cell_type": "code",
   "execution_count": 40,
   "metadata": {},
   "outputs": [
    {
     "name": "stdout",
     "output_type": "stream",
     "text": [
      "\n"
     ]
    }
   ],
   "source": [
    "txt = \"My mother died\"\n",
    "txt=vec.transform([txt])\n",
    "classes=[\"very_positive\", \"positive\", \"neutral\", \"negative\", \"very_negative\"]\n",
    "#txt=tmodel.predict(txt)\n",
    "print(txt)"
   ]
  },
  {
   "cell_type": "code",
   "execution_count": 41,
   "metadata": {},
   "outputs": [
    {
     "name": "stdout",
     "output_type": "stream",
     "text": [
      "[1]\n",
      "[1]\n",
      "[1]\n"
     ]
    }
   ],
   "source": [
    "txtpred1 = tmodel.predict(txt)\n",
    "txtpred2 = tmodel2.predict(txt)\n",
    "txtpred3 = tmodelL.predict(txt)\n",
    "print(txtpred1)\n",
    "print(txtpred2)\n",
    "print(txtpred3)"
   ]
  },
  {
   "cell_type": "code",
   "execution_count": 42,
   "metadata": {},
   "outputs": [],
   "source": [
    "memefilepth = r\"C:\\Users\\DELL\\Desktop\\image_5.png\"\n",
    "\n",
    "    "
   ]
  },
  {
   "cell_type": "code",
   "execution_count": 43,
   "metadata": {},
   "outputs": [],
   "source": [
    "memeC=Image.open(memefilepth)\n",
    "memeC=memeC.convert(\"L\")   \n",
    "memeC=memeC.resize((200, 200)) \n",
    "memeC=np.array(memeC)  \n",
    "memeC=np.array(memeC)/255.0\n",
    "nx, ny=memeC.shape  \n",
    "memeC=memeC.reshape((1, nx*ny)) "
   ]
  },
  {
   "cell_type": "code",
   "execution_count": 44,
   "metadata": {},
   "outputs": [
    {
     "name": "stdout",
     "output_type": "stream",
     "text": [
      "[1]\n",
      "[1]\n",
      "[1]\n"
     ]
    }
   ],
   "source": [
    "imgpred1 = model1.predict(memeC)\n",
    "imgpred2 =model2.predict(memeC)\n",
    "imgpred3 =model3.predict(memeC)\n",
    "print (imgpred1)\n",
    "print (imgpred2)\n",
    "print (imgpred3)"
   ]
  },
  {
   "cell_type": "code",
   "execution_count": 45,
   "metadata": {},
   "outputs": [
    {
     "data": {
      "text/plain": [
       "['positive', 'positive', 'positive', 'positive', 'positive', 'positive']"
      ]
     },
     "execution_count": 45,
     "metadata": {},
     "output_type": "execute_result"
    }
   ],
   "source": [
    "Totalresult = [classes[txtpred1[0]],classes[txtpred2[0]],classes[txtpred3[0]],classes[imgpred1[0]],classes[imgpred2[0]],classes[imgpred3[0]]]\n",
    "Totalresult"
   ]
  },
  {
   "cell_type": "code",
   "execution_count": 46,
   "metadata": {},
   "outputs": [
    {
     "name": "stdout",
     "output_type": "stream",
     "text": [
      "positive\n"
     ]
    }
   ],
   "source": [
    "from statistics import mode\n",
    "print (mode(Totalresult))"
   ]
  },
  {
   "cell_type": "code",
   "execution_count": 47,
   "metadata": {},
   "outputs": [
    {
     "name": "stdout",
     "output_type": "stream",
     "text": [
      "0.5439197898954266\n",
      "0.5729846784319214\n"
     ]
    }
   ],
   "source": [
    "temp = macrof1\n",
    "macrof1 = weightedf1\n",
    "weightedf1 = temp\n",
    "macrof1 = macrof1/6\n",
    "weightedf1 = weightedf1/6\n",
    "print(macrof1)\n",
    "print(weightedf1)"
   ]
  },
  {
   "cell_type": "code",
   "execution_count": 49,
   "metadata": {},
   "outputs": [],
   "source": [
    "import pickle as pik\n",
    "pik.dump(model2, open(\"DecisionTree.pkl\", \"wb\"))\n",
    "pik.dump(model1, open(\"KNearestNeighbors.pkl\", \"wb\"))\n",
    "pik.dump(model3, open(\"RandomForest.pkl\", \"wb\"))\n",
    "pik.dump(tmodel, open(\"Multinomial.pkl\", \"wb\"))\n",
    "pik.dump(tmodel2, open(\"SGDClassifier.pkl\", \"wb\"))\n",
    "pik.dump(tmodelL, open(\"LogisticRegression.pkl\", \"wb\"))\n"
   ]
  },
  {
   "cell_type": "code",
   "execution_count": 51,
   "metadata": {},
   "outputs": [
    {
     "ename": "ImportError",
     "evalue": "cannot import name 'Flask' from 'flask' (c:\\Users\\DELL\\Desktop\\IDSPROJJ\\flask.py)",
     "output_type": "error",
     "traceback": [
      "\u001b[1;31m---------------------------------------------------------------------------\u001b[0m",
      "\u001b[1;31mImportError\u001b[0m                               Traceback (most recent call last)",
      "\u001b[1;32mc:\\Users\\DELL\\Desktop\\IDSPROJJ\\idsprj.ipynb Cell 48\u001b[0m in \u001b[0;36m<cell line: 1>\u001b[1;34m()\u001b[0m\n\u001b[1;32m----> <a href='vscode-notebook-cell:/c%3A/Users/DELL/Desktop/IDSPROJJ/idsprj.ipynb#X66sZmlsZQ%3D%3D?line=0'>1</a>\u001b[0m \u001b[39mfrom\u001b[39;00m \u001b[39mflask\u001b[39;00m \u001b[39mimport\u001b[39;00m Flask\n",
      "\u001b[1;31mImportError\u001b[0m: cannot import name 'Flask' from 'flask' (c:\\Users\\DELL\\Desktop\\IDSPROJJ\\flask.py)"
     ]
    }
   ],
   "source": [
    "from flask import Flask\n"
   ]
  }
 ],
 "metadata": {
  "kernelspec": {
   "display_name": "base",
   "language": "python",
   "name": "python3"
  },
  "language_info": {
   "codemirror_mode": {
    "name": "ipython",
    "version": 3
   },
   "file_extension": ".py",
   "mimetype": "text/x-python",
   "name": "python",
   "nbconvert_exporter": "python",
   "pygments_lexer": "ipython3",
   "version": "3.9.12"
  },
  "orig_nbformat": 4,
  "vscode": {
   "interpreter": {
    "hash": "5179d32cf6ec497baf3f8a3ef987cc77c5d2dc691fdde20a56316522f61a7323"
   }
  }
 },
 "nbformat": 4,
 "nbformat_minor": 2
}
